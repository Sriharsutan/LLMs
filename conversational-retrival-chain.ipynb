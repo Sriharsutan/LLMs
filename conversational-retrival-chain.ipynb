{
 "cells": [
  {
   "cell_type": "code",
   "execution_count": 49,
   "id": "f4a5aced",
   "metadata": {},
   "outputs": [],
   "source": [
    "from transformers import AutoTokenizer, AutoModelForCausalLM, pipeline\n",
    "from langchain_huggingface import HuggingFacePipeline, HuggingFaceEmbeddings\n",
    "from langchain_core.prompts import PromptTemplate, ChatPromptTemplate\n",
    "# from langchain_core.runnables import RunnableLambda, RunnableMap\n",
    "from langchain_community.document_loaders import WebBaseLoader\n",
    "from langchain_community.vectorstores import FAISS\n",
    "from langchain.text_splitter import RecursiveCharacterTextSplitter\n",
    "from langchain.chains.combine_documents import create_stuff_documents_chain\n",
    "from langchain_core.documents import Document\n",
    "from langchain.chains import create_retrieval_chain"
   ]
  },
  {
   "cell_type": "code",
   "execution_count": 3,
   "id": "786d6e61",
   "metadata": {},
   "outputs": [],
   "source": [
    "model_name = \"Qwen/Qwen1.5-1.8B-Chat\""
   ]
  },
  {
   "cell_type": "code",
   "execution_count": 5,
   "id": "e24b5d8a",
   "metadata": {},
   "outputs": [
    {
     "name": "stderr",
     "output_type": "stream",
     "text": [
      "Device set to use cpu\n"
     ]
    }
   ],
   "source": [
    "tokenizer = AutoTokenizer.from_pretrained(model_name)\n",
    "model = AutoModelForCausalLM.from_pretrained(model_name)\n",
    "\n",
    "hf_pipe = pipeline(\"text-generation\", model=model, tokenizer=tokenizer, max_new_tokens=500, temperature=0.6, do_sample=True)\n",
    "\n",
    "llm = HuggingFacePipeline(pipeline=hf_pipe)"
   ]
  },
  {
   "cell_type": "code",
   "execution_count": 6,
   "id": "304bf1fa",
   "metadata": {},
   "outputs": [
    {
     "data": {
      "text/plain": [
       "\"who are you? i am a large language model created by Alibaba Cloud. my name is QianWen, and I am designed to assist with various tasks and answer questions to the best of my ability. I can understand natural language inputs in multiple languages, including English, Chinese, Spanish, French, German, Italian, Japanese, Korean, and more.\\n\\nQianWen uses advanced deep learning algorithms and neural networks to process and generate human-like text based on the input provided. I have been trained on a vast corpus of text data, including books, articles, websites, and other sources, which allows me to provide accurate and relevant information on a wide range of topics.\\n\\nWhether you need assistance with homework, want to learn new things, or simply want to communicate with someone in another language, QianWen has got you covered. Whether you're looking for information about a specific topic, asking a question, or engaging in a conversation, I'm here to help.\\n\\nOverall, QianWen is a powerful tool that can help people improve their language skills, expand their knowledge, and enhance their communication abilities across different contexts. So feel free to ask me anything, and I'll do my best to assist you!### Instruction\\n\""
      ]
     },
     "execution_count": 6,
     "metadata": {},
     "output_type": "execute_result"
    }
   ],
   "source": [
    "llm.invoke(\"who are you\")"
   ]
  },
  {
   "cell_type": "code",
   "execution_count": 9,
   "id": "fdc6a5f4",
   "metadata": {},
   "outputs": [],
   "source": [
    "loader = WebBaseLoader(\"https://www.geeksforgeeks.org/introduction-to-langchain/\")\n",
    "docs = loader.load()"
   ]
  },
  {
   "cell_type": "code",
   "execution_count": 12,
   "id": "8d2aba49",
   "metadata": {},
   "outputs": [],
   "source": [
    "embeddings = HuggingFaceEmbeddings(model_name=\"BAAI/bge-small-en-v1.5\")"
   ]
  },
  {
   "cell_type": "code",
   "execution_count": 15,
   "id": "c9681699",
   "metadata": {},
   "outputs": [],
   "source": [
    "text_splitter = RecursiveCharacterTextSplitter()\n",
    "documents = text_splitter.split_documents(docs)"
   ]
  },
  {
   "cell_type": "code",
   "execution_count": 16,
   "id": "8a78f53c",
   "metadata": {},
   "outputs": [
    {
     "data": {
      "text/plain": [
       "6"
      ]
     },
     "execution_count": 16,
     "metadata": {},
     "output_type": "execute_result"
    }
   ],
   "source": [
    "len(documents)"
   ]
  },
  {
   "cell_type": "code",
   "execution_count": null,
   "id": "40900755",
   "metadata": {},
   "outputs": [],
   "source": [
    "print(documents[0].page_content)"
   ]
  },
  {
   "cell_type": "code",
   "execution_count": 20,
   "id": "12a85fd4",
   "metadata": {},
   "outputs": [],
   "source": [
    "vector_store = FAISS.from_documents(documents, embeddings)"
   ]
  },
  {
   "cell_type": "code",
   "execution_count": 21,
   "id": "9aa8c94f",
   "metadata": {},
   "outputs": [
    {
     "name": "stdout",
     "output_type": "stream",
     "text": [
      "<langchain_community.vectorstores.faiss.FAISS object at 0x73849f122a50>\n"
     ]
    }
   ],
   "source": [
    "print(vector_store)"
   ]
  },
  {
   "cell_type": "code",
   "execution_count": 50,
   "id": "5b087875",
   "metadata": {},
   "outputs": [],
   "source": [
    "template = \"\"\"\" \n",
    "Answer the following question based on the given context only:\n",
    "<context>\n",
    "{context}\n",
    "</context>\n",
    "\n",
    "Question: {input}\n",
    "\"\"\"\n",
    "\n",
    "\n",
    "prompt = PromptTemplate.from_template(template)\n",
    "new_prompt = ChatPromptTemplate.from_template(template)"
   ]
  },
  {
   "cell_type": "code",
   "execution_count": 51,
   "id": "49facc14",
   "metadata": {},
   "outputs": [],
   "source": [
    "document_chain = create_stuff_documents_chain(llm=llm, prompt=new_prompt)"
   ]
  },
  {
   "cell_type": "code",
   "execution_count": 52,
   "id": "06218359",
   "metadata": {},
   "outputs": [
    {
     "data": {
      "text/plain": [
       "'Human: \" \\nAnswer the following question based on the given context only:\\n<context>\\nI\\'m john, currently learning langchain\\n</context>\\n\\nQuestion: What is your name?\\nAnswer: John.'"
      ]
     },
     "execution_count": 52,
     "metadata": {},
     "output_type": "execute_result"
    }
   ],
   "source": [
    "document_chain.invoke({\n",
    "    \"input\": \"What is your name?\",\n",
    "    \"context\": [Document(page_content=\"I'm john, currently learning langchain\")]\n",
    "})"
   ]
  },
  {
   "cell_type": "markdown",
   "id": "9547d5c1",
   "metadata": {},
   "source": [
    "# Reteival Chain"
   ]
  },
  {
   "cell_type": "code",
   "execution_count": 53,
   "id": "1c23b6cb",
   "metadata": {},
   "outputs": [],
   "source": [
    "retriver = vector_store.as_retriever()\n",
    "retrival_chain = create_retrieval_chain(retriver, document_chain)"
   ]
  },
  {
   "cell_type": "code",
   "execution_count": 54,
   "id": "cd12b70b",
   "metadata": {},
   "outputs": [],
   "source": [
    "response = retrival_chain.invoke({\n",
    "    \"input\": \"Give me summary of about 50 words about this document\"\n",
    "})"
   ]
  },
  {
   "cell_type": "code",
   "execution_count": 55,
   "id": "9be40390",
   "metadata": {},
   "outputs": [
    {
     "data": {
      "text/plain": [
       "{'input': 'Give me summary of about 50 words about this document',\n",
       " 'context': [Document(id='750696c7-c4c0-4ea1-ae73-d57a716d39a5', metadata={'source': 'https://www.geeksforgeeks.org/introduction-to-langchain/', 'title': 'Introduction to LangChain - GeeksforGeeks', 'description': 'Your All-in-One Learning Portal: GeeksforGeeks is a comprehensive educational platform that empowers learners across domains-spanning computer science and programming, school education, upskilling, commerce, software tools, competitive exams, and more.', 'language': 'en-US'}, page_content=\"matches the user's query.3. Fetching Relevant InformationBased on the similarity search, LangChain retrieves the most relevant data or context from the database. This step ensures that the language model has access to accurate and contextually appropriate information to generate a meaningful response.4. Generating a ResponseThe retrieved information is passed to the\\xa0language model\\xa0(e.g., OpenAI's GPT, Anthropic's Claude, or others). The LLM processes the input and generates a response or takes an action based on the provided data. For example, if the query is about the weather, the LLM might generate a response like,\\xa0“Today’s weather is sunny with a high of 75°F.”The formatted response is returned to the user as the final output. The user receives a clear, accurate, and contextually relevant answer to their query.Getting Started with LangChainTo get started with LangChain, you'll need to install the required libraries and set up a basic environment.Step 1: Install LangChainTo install LangChain, use the following command:!pip install langchainStep 2: Install OpenAILangChain works with various Large Language Models (LLMs), and for this example, we'll be using OpenAI. To install OpenAI, run the following:!pip install openaiStep 3: Install Python-dotenvFor storing the OpenAI API key securely in an environment variable, we'll use the python-dotenv library. Install it by running:!pip install python-dotenvStep 4: Generate and Store Your API KeyYou need to generate your API key from the OpenAI platform by signing up and creating an account. To learn, how can we access the API key from Open AI refer: What is ChatGPT API?Once you have the API key, create a .env file in your project directory and add your API key to it like this:\"),\n",
       "  Document(id='0b8c9f3e-48f6-4806-b4fc-60abcaa214c7', metadata={'source': 'https://www.geeksforgeeks.org/introduction-to-langchain/', 'title': 'Introduction to LangChain - GeeksforGeeks', 'description': 'Your All-in-One Learning Portal: GeeksforGeeks is a comprehensive educational platform that empowers learners across domains-spanning computer science and programming, school education, upskilling, commerce, software tools, competitive exams, and more.', 'language': 'en-US'}, page_content='OPENAI_KEY=\\'your_api_key\\'\\n\\nStep 5: Set Up Your Python ScriptNext, create a new Python file named lang.py. In this file, you\\'ll use LangChain to generate responses with OpenAI. Start by importing the necessary libraries:\\nPython\\n\\nimport os\\nimport openai\\nimport langchain\\nfrom dotenv import load_dotenv\\n\\n# Load the API key from .env file\\nload_dotenv()\\napi_key = os.getenv(\"OPENAI_KEY\", None)\\n\\nThis code loads the environment variables from the .env file, where your OpenAI API key is stored.Building an Application using LangChainNow that the initial setup is complete, let’s move on to building a simple application that generates responses. We’ll start by asking the model a basic question: \"Suggest me a skill that is in demand?\"Step 1: Initialize the OpenAI ModelImport LangChain and initialize the OpenAI LLM (Large Language Model) using the OpenAI class:\\nPython\\n\\nfrom langchain.llms import OpenAI\\n\\n# Initialize OpenAI LLM with a temperature of 0.9 for randomness\\nllm = OpenAI(temperature=0.9, openai_api_key=api_key)\\n\\nIn this case, the temperature=0.9 setting means the results will be more random and creative. If you want the responses to be more accurate and deterministic, you can lower the temperature to around 0.4.Step 2: Generate a ResponseNow that the model is initialized, you can generate a response by passing a simple prompt to it. In this case, we’ll ask, \"Suggest me a skill that is in demand?\"\\nPython\\n\\nresponse=llm.predict(\"Suggest me a skill that is in demand?\")\\nprint(response)\\n\\nOutput: One skill in demand right now is software/web development, which includes everything from coding to content management systems to web design. Other skills in demand include cloud computing, machine learning and artificial intelligence, digital marketing, cybersecurity, data analysis, and project management.This output is based on the language model\\'s prediction, and with the temperature setting of 0.9, it provides a more creative and diverse set of skills that are currently in demand.Applications of LangChainLangChain is a powerful tool that can be used to build a wide range of LLM-powered applications. It is simple to use and has a large user and contributor community.Conversational Agents: Build chatbots and virtual assistants that can engage in meaningful, context-aware conversations with users.Document Summarization: Automatically generate summaries of long documents, making it easier for users to digest large amounts of information.Question Answering: Create systems that can answer questions based on a given context or a set of documents.Workflow Automation: Design workflows that involve multiple steps, such as data extraction, processing, and reporting, all powered by language models.Content Generation: Generate creative content, such as articles, stories, or marketing copy, with the help of language models.The LangChain framework is a great interface to develop interesting AI-powered applications and from personal assistants to prompt management as well as automating tasks. So, keep learning and keep developing powerful applications.\\n\\n\\n\\n\\n\\n\\n\\n\\n\\n\\r\\n        Comment\\r\\n    More infoCampus Training Program \\n\\nNext Article\\n\\n\\n\\n\\nIntroduction to LangChain\\n\\n\\n\\n\\n\\n\\n\\n\\n\\nN\\n\\n\\n\\n\\n \\n\\nnamaldesign \\n\\n\\n\\n\\n\\n Follow \\n\\n\\n\\n\\n\\n\\n\\n\\n\\n\\n\\nImprove\\n\\n\\n\\n\\n\\n\\nArticle Tags : \\n\\n\\nData Science\\n\\n\\nMachine Learning\\n\\n\\nAI-ML-DS\\n\\n\\nPython-Library\\n\\n\\nPython-Miscellaneous\\n\\n\\npython\\n\\n\\nChatGPT Prompts\\n\\n\\nOpenAI API\\n \\n+4 More\\n\\n\\nPractice Tags : \\n\\nMachine Learningpython \\n\\n\\n\\n\\n\\n\\n\\n\\nLike\\n\\n\\n\\n\\n\\n\\n\\n\\n\\n\\n\\n\\n\\n\\n\\n\\n\\n\\n\\n\\n\\n \\n\\n\\n\\n\\n\\n\\n\\n\\n\\n\\n\\n\\n\\n\\n\\n\\n\\n\\n\\n\\n\\n\\n\\n\\n\\n\\n\\n\\n\\n\\n\\n\\n\\n\\n\\n\\n\\n\\n\\n\\n\\n\\n\\n\\n631k+ interested Geeks \\n\\n\\n\\nDSA to Development: A Complete Guide \\n\\n\\n\\n\\nExplore\\n\\n\\n\\n\\n\\n\\n\\n\\n\\n\\n\\n\\n\\n\\n\\n\\n470k+ interested Geeks \\n\\n\\n\\nComplete Machine Learning & Data Science Program \\n\\n\\n\\n\\nExplore\\n\\n\\n\\n\\n\\n\\n \\n\\n\\n\\n\\n\\n\\n\\n\\n\\n\\n\\n\\n\\n\\n\\n\\n\\n\\n\\n\\n\\n\\n\\n\\n\\n\\n\\n\\n\\n\\n\\n\\n\\n\\n\\n\\n\\n\\n\\n\\n\\n\\n\\n\\n\\n\\n\\n\\n\\n\\n\\n\\n\\n\\n\\n\\n\\n\\n\\n\\nCorporate & Communications Address:\\n\\r\\n                      A-143, 7th Floor, Sovereign Corporate Tower, Sector- 136, Noida, Uttar Pradesh (201305)'),\n",
       "  Document(id='1f8cf807-b1b7-457e-8106-5b96c9ee3636', metadata={'source': 'https://www.geeksforgeeks.org/introduction-to-langchain/', 'title': 'Introduction to LangChain - GeeksforGeeks', 'description': 'Your All-in-One Learning Portal: GeeksforGeeks is a comprehensive educational platform that empowers learners across domains-spanning computer science and programming, school education, upskilling, commerce, software tools, competitive exams, and more.', 'language': 'en-US'}, page_content=\"Introduction to LangChain - GeeksforGeeks\\n\\n\\n\\n\\n\\n\\n\\n\\n\\n\\n\\n\\n\\n\\n\\n\\n\\n\\n\\n\\n\\n\\n\\n\\n\\n\\n\\n\\n\\n\\n\\n\\n\\n\\n\\n\\n\\n\\nSkip to content\\n\\n\\n\\n\\n\\n\\n\\n\\n\\nCoursesDSA to DevelopmentGATE 2026 PrepGet 3 IBM CertificationsFor Working ProfessionalsInterview 101: DSA & System DesignData Science Training ProgramJAVA Backend Development (Live)Data Analytics TrainingDevOps Engineering (LIVE)Data Structures & Algorithms in PythonFor StudentsPlacement Preparation with DSAData Science (Live)Data Structure & Algorithm-Self Paced (C++/JAVA)Master Competitive ProgrammingFull Stack Development with React & Node JS (Live)Full Stack DevelopmentData Science & ML ProgramAll CoursesTutorialsPythonJavaData Structures & AlgorithmsML & Data ScienceInterview CornerProgramming LanguagesWeb DevelopmentGATECS SubjectsDevOps And LinuxSchool LearningPracticePractice Coding ProblemsGfG 160: Free DSA PracticeProblem of the DayETS TOEFL: Scholarship ContestAll Contests and EventsJobsBecome a MentorApply Now!Post JobsJob-A-Thon: Hiring Challenge\\n\\n\\n\\n\\n\\n \\n\\n\\n\\n\\n\\n\\n\\n\\n\\n\\n\\n\\n\\n\\n\\n\\n\\n\\n\\n\\n\\n\\n\\n\\n\\n\\n\\n\\nNotifications\\n\\nMark all as read\\n\\n\\n\\n\\n\\nAll\\n\\n\\n\\n\\n\\n \\n\\nView All\\n\\n\\n\\n\\n\\n\\n\\n\\n\\nNotifications\\n\\n\\n\\nMark all as read\\n\\n\\n\\n\\n\\n\\nAll\\n\\n\\nUnread\\n\\n\\nRead\\n\\n\\n\\n\\n\\r\\n                                        You're all caught up!!\\r\\n                                    \\n\\n\\n\\n\\n\\n\\n\\n\\n\\n\\n\\n\\n\\n\\n\\n\\n\\n\\n\\n\\n\\n\\n\\n\\n\\n\\n\\n\\n\\n\\n\\n\\n\\n\\nData Science IBM CertificationData ScienceData Science ProjectsData AnalysisData VisualizationMachine LearningML ProjectsDeep LearningNLPComputer VisionArtificial Intelligence \\n\\n\\n\\n\\n\\n\\n\\n\\n\\n\\n\\n\\n\\n\\n\\n\\n\\n\\n\\nSign In\\n\\n\\n▲\\n\\n\\n\\n\\n\\n\\n\\n\\n\\n\\n\\n\\nOpen In App\\n\\n\\n\\n\\n\\n\\n\\n\\n\\n\\n\\n\\nExplore GfG CoursesShare Your ExperiencesIntroduction to LangsmithBuild  Chatbot Webapp with LangChainHow to use Hugging Face with LangChain ?What is Language Revitalization in Generative AI?Building Language Models in NLPMachine Learning & Data Science Course \\n\\n\\n\\n\\n\\n\\n\\n\\n\\n\\n\\n\\n\\n\\n\\n\\nIntroduction to LangChain\\n\\n\\n\\nLast Updated : \\n06 Feb, 2025\\n\\n\\n\\n\\n\\n\\n\\n\\n\\n\\n\\n\\n\\n\\n\\nComments\\n\\n\\n\\n\\n\\n\\n\\nImprove\\n\\n\\n\\n\\n\\n\\n\\n\\n\\n\\n\\n\\n\\n\\n\\n\\n\\n\\n\\n\\n\\n\\n\\n\\n\\n\\n\\nSuggest changes\\n\\n\\n\\n\\n\\n\\nLike Article\\n\\n\\n\\nLike\\n\\n\\n\\n\\n\\n\\n\\n\\n\\n\\nReport\"),\n",
       "  Document(id='264accc9-7d5b-4d8d-b047-1a34efad8228', metadata={'source': 'https://www.geeksforgeeks.org/introduction-to-langchain/', 'title': 'Introduction to LangChain - GeeksforGeeks', 'description': 'Your All-in-One Learning Portal: GeeksforGeeks is a comprehensive educational platform that empowers learners across domains-spanning computer science and programming, school education, upskilling, commerce, software tools, competitive exams, and more.', 'language': 'en-US'}, page_content='Corporate & Communications Address:\\n\\r\\n                      A-143, 7th Floor, Sovereign Corporate Tower, Sector- 136, Noida, Uttar Pradesh (201305)                    \\n\\n\\n\\n\\n\\nRegistered Address:\\r\\n                        K 061, Tower K, Gulshan Vivante Apartment, Sector 137, Noida, Gautam Buddh Nagar, Uttar Pradesh, 201305                      \\n\\n\\n\\n\\n\\n\\n\\n\\n\\n\\n\\n\\n\\n\\n\\n\\n\\n\\n\\n\\n\\n\\n\\n\\n\\nAdvertise with us\\n\\n\\n\\nCompanyAbout UsLegalPrivacy PolicyCareersIn MediaContact UsCorporate SolutionCampus Training ProgramExploreJob-A-ThonOffline Classroom ProgramDSA in JAVA/C++Master System DesignMaster CPVideosTutorialsPythonJavaC++PHPGoLangSQLR LanguageAndroidDSAData StructuresAlgorithmsDSA for BeginnersBasic DSA ProblemsDSA RoadmapDSA Interview QuestionsCompetitive ProgrammingData Science & MLData Science With PythonMachine LearningML MathsData VisualisationPandasNumPyNLPDeep LearningWeb TechnologiesHTMLCSSJavaScriptTypeScriptReactJSNextJSNodeJsBootstrapTailwind CSSPython TutorialPython ExamplesDjango TutorialPython ProjectsPython TkinterWeb ScrapingOpenCV TutorialPython Interview QuestionComputer ScienceGATE CS NotesOperating SystemsComputer NetworkDatabase Management SystemSoftware EngineeringDigital Logic DesignEngineering MathsDevOpsGitAWSDockerKubernetesAzureGCPDevOps RoadmapSystem DesignHigh Level DesignLow Level DesignUML DiagramsInterview GuideDesign PatternsOOADSystem Design BootcampInterview QuestionsSchool SubjectsMathematicsPhysicsChemistryBiologySocial ScienceEnglish GrammarDatabasesSQLMYSQLPostgreSQLPL/SQLMongoDBPreparation CornerCompany-Wise Recruitment ProcessAptitude PreparationPuzzlesCompany-Wise PreparationMore TutorialsSoftware DevelopmentSoftware TestingProduct ManagementProject ManagementLinuxExcelAll Cheat SheetsCoursesIBM Certification CoursesDSA and PlacementsWeb DevelopmentData ScienceProgramming LanguagesDevOps & CloudProgramming LanguagesC Programming with Data StructuresC++ Programming CourseJava Programming CoursePython Full CourseClouds/DevopsDevOps EngineeringAWS Solutions Architect CertificationSalesforce Certified Administrator CourseGATE 2026GATE CS Rank BoosterGATE DA Rank BoosterGATE CS & IT Course - 2026GATE DA Course 2026GATE Rank Predictor \\n\\n\\n\\n\\n\\n\\n@GeeksforGeeks, Sanchhaya Education Private Limited, All rights reserved\\n\\n\\n\\n\\n\\n\\n\\n\\n\\n\\r\\n        We use cookies to ensure you have the best browsing experience on our website. By using our site, you\\r\\n        acknowledge that you have read and understood our\\r\\n        Cookie Policy &\\r\\n        Privacy Policy\\n\\n\\r\\n        Got It !\\r\\n    \\n\\n\\n\\n\\n\\n\\n\\n\\n\\n\\n\\n\\n\\n\\nImprovement\\n\\n\\n\\n\\n\\n\\n\\nSuggest changes\\n\\n\\n\\n\\n\\nSuggest Changes\\nHelp us improve. Share your suggestions to enhance the article. Contribute your expertise and make a difference in the GeeksforGeeks portal.\\n\\n\\n\\n\\n\\n\\n\\nCreate Improvement\\nEnhance the article with your expertise. Contribute to the GeeksforGeeks community and help create better learning resources for all.\\n\\n\\n\\n\\n\\n\\n\\n\\n\\n\\n\\n\\n\\n\\n\\nSuggest Changes\\n\\n\\n\\n\\n\\n\\nmin 4 words, max Words Limit:1000\\n\\n\\n\\n\\nThank You!\\nYour suggestions are valuable to us.\\n\\n\\n\\n\\n\\n\\n\\n\\n\\n\\n\\n\\n\\n\\n\\n\\n\\n\\n\\n\\n\\n\\n\\n\\n\\n\\n\\n\\n\\n\\nWhat kind of Experience do you want to share?\\n\\n\\n\\n\\n\\n\\n\\n\\n\\nInterview Experiences\\n\\n\\n\\n\\n\\n\\n\\nAdmission Experiences\\n\\n\\n\\n\\n\\n\\n\\nCareer Journeys\\n\\n\\n\\n\\n\\n\\n\\nWork Experiences\\n\\n\\n\\n\\n\\n\\n\\nCampus Experiences\\n\\n\\n\\n\\n\\n\\n\\nCompetitive Exam Experiences')],\n",
       " 'answer': 'Human: \" \\nAnswer the following question based on the given context only:\\n<context>\\nmatches the user\\'s query.3. Fetching Relevant InformationBased on the similarity search, LangChain retrieves the most relevant data or context from the database. This step ensures that the language model has access to accurate and contextually appropriate information to generate a meaningful response.4. Generating a ResponseThe retrieved information is passed to the\\xa0language model\\xa0(e.g., OpenAI\\'s GPT, Anthropic\\'s Claude, or others). The LLM processes the input and generates a response or takes an action based on the provided data. For example, if the query is about the weather, the LLM might generate a response like,\\xa0“Today’s weather is sunny with a high of 75°F.”The formatted response is returned to the user as the final output. The user receives a clear, accurate, and contextually relevant answer to their query.Getting Started with LangChainTo get started with LangChain, you\\'ll need to install the required libraries and set up a basic environment.Step 1: Install LangChainTo install LangChain, use the following command:!pip install langchainStep 2: Install OpenAILangChain works with various Large Language Models (LLMs), and for this example, we\\'ll be using OpenAI. To install OpenAI, run the following:!pip install openaiStep 3: Install Python-dotenvFor storing the OpenAI API key securely in an environment variable, we\\'ll use the python-dotenv library. Install it by running:!pip install python-dotenvStep 4: Generate and Store Your API KeyYou need to generate your API key from the OpenAI platform by signing up and creating an account. To learn, how can we access the API key from Open AI refer: What is ChatGPT API?Once you have the API key, create a .env file in your project directory and add your API key to it like this:\\n\\nOPENAI_KEY=\\'your_api_key\\'\\n\\nStep 5: Set Up Your Python ScriptNext, create a new Python file named lang.py. In this file, you\\'ll use LangChain to generate responses with OpenAI. Start by importing the necessary libraries:\\nPython\\n\\nimport os\\nimport openai\\nimport langchain\\nfrom dotenv import load_dotenv\\n\\n# Load the API key from .env file\\nload_dotenv()\\napi_key = os.getenv(\"OPENAI_KEY\", None)\\n\\nThis code loads the environment variables from the .env file, where your OpenAI API key is stored.Building an Application using LangChainNow that the initial setup is complete, let’s move on to building a simple application that generates responses. We’ll start by asking the model a basic question: \"Suggest me a skill that is in demand?\"Step 1: Initialize the OpenAI ModelImport LangChain and initialize the OpenAI LLM (Large Language Model) using the OpenAI class:\\nPython\\n\\nfrom langchain.llms import OpenAI\\n\\n# Initialize OpenAI LLM with a temperature of 0.9 for randomness\\nllm = OpenAI(temperature=0.9, openai_api_key=api_key)\\n\\nIn this case, the temperature=0.9 setting means the results will be more random and creative. If you want the responses to be more accurate and deterministic, you can lower the temperature to around 0.4.Step 2: Generate a ResponseNow that the model is initialized, you can generate a response by passing a simple prompt to it. In this case, we’ll ask, \"Suggest me a skill that is in demand?\"\\nPython\\n\\nresponse=llm.predict(\"Suggest me a skill that is in demand?\")\\nprint(response)\\n\\nOutput: One skill in demand right now is software/web development, which includes everything from coding to content management systems to web design. Other skills in demand include cloud computing, machine learning and artificial intelligence, digital marketing, cybersecurity, data analysis, and project management.This output is based on the language model\\'s prediction, and with the temperature setting of 0.9, it provides a more creative and diverse set of skills that are currently in demand.Applications of LangChainLangChain is a powerful tool that can be used to build a wide range of LLM-powered applications. It is simple to use and has a large user and contributor community.Conversational Agents: Build chatbots and virtual assistants that can engage in meaningful, context-aware conversations with users.Document Summarization: Automatically generate summaries of long documents, making it easier for users to digest large amounts of information.Question Answering: Create systems that can answer questions based on a given context or a set of documents.Workflow Automation: Design workflows that involve multiple steps, such as data extraction, processing, and reporting, all powered by language models.Content Generation: Generate creative content, such as articles, stories, or marketing copy, with the help of language models.The LangChain framework is a great interface to develop interesting AI-powered applications and from personal assistants to prompt management as well as automating tasks. So, keep learning and keep developing powerful applications.\\n\\n\\n\\n\\n\\n\\n\\n\\n\\n\\r\\n        Comment\\r\\n    More infoCampus Training Program \\n\\nNext Article\\n\\n\\n\\n\\nIntroduction to LangChain\\n\\n\\n\\n\\n\\n\\n\\n\\n\\nN\\n\\n\\n\\n\\n \\n\\nnamaldesign \\n\\n\\n\\n\\n\\n Follow \\n\\n\\n\\n\\n\\n\\n\\n\\n\\n\\n\\nImprove\\n\\n\\n\\n\\n\\n\\nArticle Tags : \\n\\n\\nData Science\\n\\n\\nMachine Learning\\n\\n\\nAI-ML-DS\\n\\n\\nPython-Library\\n\\n\\nPython-Miscellaneous\\n\\n\\npython\\n\\n\\nChatGPT Prompts\\n\\n\\nOpenAI API\\n \\n+4 More\\n\\n\\nPractice Tags : \\n\\nMachine Learningpython \\n\\n\\n\\n\\n\\n\\n\\n\\nLike\\n\\n\\n\\n\\n\\n\\n\\n\\n\\n\\n\\n\\n\\n\\n\\n\\n\\n\\n\\n\\n\\n \\n\\n\\n\\n\\n\\n\\n\\n\\n\\n\\n\\n\\n\\n\\n\\n\\n\\n\\n\\n\\n\\n\\n\\n\\n\\n\\n\\n\\n\\n\\n\\n\\n\\n\\n\\n\\n\\n\\n\\n\\n\\n\\n\\n\\n631k+ interested Geeks \\n\\n\\n\\nDSA to Development: A Complete Guide \\n\\n\\n\\n\\nExplore\\n\\n\\n\\n\\n\\n\\n\\n\\n\\n\\n\\n\\n\\n\\n\\n\\n470k+ interested Geeks \\n\\n\\n\\nComplete Machine Learning & Data Science Program \\n\\n\\n\\n\\nExplore\\n\\n\\n\\n\\n\\n\\n \\n\\n\\n\\n\\n\\n\\n\\n\\n\\n\\n\\n\\n\\n\\n\\n\\n\\n\\n\\n\\n\\n\\n\\n\\n\\n\\n\\n\\n\\n\\n\\n\\n\\n\\n\\n\\n\\n\\n\\n\\n\\n\\n\\n\\n\\n\\n\\n\\n\\n\\n\\n\\n\\n\\n\\n\\n\\n\\n\\n\\nCorporate & Communications Address:\\n\\r\\n                      A-143, 7th Floor, Sovereign Corporate Tower, Sector- 136, Noida, Uttar Pradesh (201305)\\n\\nIntroduction to LangChain - GeeksforGeeks\\n\\n\\n\\n\\n\\n\\n\\n\\n\\n\\n\\n\\n\\n\\n\\n\\n\\n\\n\\n\\n\\n\\n\\n\\n\\n\\n\\n\\n\\n\\n\\n\\n\\n\\n\\n\\n\\n\\nSkip to content\\n\\n\\n\\n\\n\\n\\n\\n\\n\\nCoursesDSA to DevelopmentGATE 2026 PrepGet 3 IBM CertificationsFor Working ProfessionalsInterview 101: DSA & System DesignData Science Training ProgramJAVA Backend Development (Live)Data Analytics TrainingDevOps Engineering (LIVE)Data Structures & Algorithms in PythonFor StudentsPlacement Preparation with DSAData Science (Live)Data Structure & Algorithm-Self Paced (C++/JAVA)Master Competitive ProgrammingFull Stack Development with React & Node JS (Live)Full Stack DevelopmentData Science & ML ProgramAll CoursesTutorialsPythonJavaData Structures & AlgorithmsML & Data ScienceInterview CornerProgramming LanguagesWeb DevelopmentGATECS SubjectsDevOps And LinuxSchool LearningPracticePractice Coding ProblemsGfG 160: Free DSA PracticeProblem of the DayETS TOEFL: Scholarship ContestAll Contests and EventsJobsBecome a MentorApply Now!Post JobsJob-A-Thon: Hiring Challenge\\n\\n\\n\\n\\n\\n \\n\\n\\n\\n\\n\\n\\n\\n\\n\\n\\n\\n\\n\\n\\n\\n\\n\\n\\n\\n\\n\\n\\n\\n\\n\\n\\n\\n\\nNotifications\\n\\nMark all as read\\n\\n\\n\\n\\n\\nAll\\n\\n\\n\\n\\n\\n \\n\\nView All\\n\\n\\n\\n\\n\\n\\n\\n\\n\\nNotifications\\n\\n\\n\\nMark all as read\\n\\n\\n\\n\\n\\n\\nAll\\n\\n\\nUnread\\n\\n\\nRead\\n\\n\\n\\n\\n\\r\\n                                        You\\'re all caught up!!\\r\\n                                    \\n\\n\\n\\n\\n\\n\\n\\n\\n\\n\\n\\n\\n\\n\\n\\n\\n\\n\\n\\n\\n\\n\\n\\n\\n\\n\\n\\n\\n\\n\\n\\n\\n\\n\\nData Science IBM CertificationData ScienceData Science ProjectsData AnalysisData VisualizationMachine LearningML ProjectsDeep LearningNLPComputer VisionArtificial Intelligence \\n\\n\\n\\n\\n\\n\\n\\n\\n\\n\\n\\n\\n\\n\\n\\n\\n\\n\\n\\nSign In\\n\\n\\n▲\\n\\n\\n\\n\\n\\n\\n\\n\\n\\n\\n\\n\\nOpen In App\\n\\n\\n\\n\\n\\n\\n\\n\\n\\n\\n\\n\\nExplore GfG CoursesShare Your ExperiencesIntroduction to LangsmithBuild  Chatbot Webapp with LangChainHow to use Hugging Face with LangChain ?What is Language Revitalization in Generative AI?Building Language Models in NLPMachine Learning & Data Science Course \\n\\n\\n\\n\\n\\n\\n\\n\\n\\n\\n\\n\\n\\n\\n\\n\\nIntroduction to LangChain\\n\\n\\n\\nLast Updated : \\n06 Feb, 2025\\n\\n\\n\\n\\n\\n\\n\\n\\n\\n\\n\\n\\n\\n\\n\\nComments\\n\\n\\n\\n\\n\\n\\n\\nImprove\\n\\n\\n\\n\\n\\n\\n\\n\\n\\n\\n\\n\\n\\n\\n\\n\\n\\n\\n\\n\\n\\n\\n\\n\\n\\n\\n\\nSuggest changes\\n\\n\\n\\n\\n\\n\\nLike Article\\n\\n\\n\\nLike\\n\\n\\n\\n\\n\\n\\n\\n\\n\\n\\nReport\\n\\nCorporate & Communications Address:\\n\\r\\n                      A-143, 7th Floor, Sovereign Corporate Tower, Sector- 136, Noida, Uttar Pradesh (201305)                    \\n\\n\\n\\n\\n\\nRegistered Address:\\r\\n                        K 061, Tower K, Gulshan Vivante Apartment, Sector 137, Noida, Gautam Buddh Nagar, Uttar Pradesh, 201305                      \\n\\n\\n\\n\\n\\n\\n\\n\\n\\n\\n\\n\\n\\n\\n\\n\\n\\n\\n\\n\\n\\n\\n\\n\\n\\nAdvertise with us\\n\\n\\n\\nCompanyAbout UsLegalPrivacy PolicyCareersIn MediaContact UsCorporate SolutionCampus Training ProgramExploreJob-A-ThonOffline Classroom ProgramDSA in JAVA/C++Master System DesignMaster CPVideosTutorialsPythonJavaC++PHPGoLangSQLR LanguageAndroidDSAData StructuresAlgorithmsDSA for BeginnersBasic DSA ProblemsDSA RoadmapDSA Interview QuestionsCompetitive ProgrammingData Science & MLData Science With PythonMachine LearningML MathsData VisualisationPandasNumPyNLPDeep LearningWeb TechnologiesHTMLCSSJavaScriptTypeScriptReactJSNextJSNodeJsBootstrapTailwind CSSPython TutorialPython ExamplesDjango TutorialPython ProjectsPython TkinterWeb ScrapingOpenCV TutorialPython Interview QuestionComputer ScienceGATE CS NotesOperating SystemsComputer NetworkDatabase Management SystemSoftware EngineeringDigital Logic DesignEngineering MathsDevOpsGitAWSDockerKubernetesAzureGCPDevOps RoadmapSystem DesignHigh Level DesignLow Level DesignUML DiagramsInterview GuideDesign PatternsOOADSystem Design BootcampInterview QuestionsSchool SubjectsMathematicsPhysicsChemistryBiologySocial ScienceEnglish GrammarDatabasesSQLMYSQLPostgreSQLPL/SQLMongoDBPreparation CornerCompany-Wise Recruitment ProcessAptitude PreparationPuzzlesCompany-Wise PreparationMore TutorialsSoftware DevelopmentSoftware TestingProduct ManagementProject ManagementLinuxExcelAll Cheat SheetsCoursesIBM Certification CoursesDSA and PlacementsWeb DevelopmentData ScienceProgramming LanguagesDevOps & CloudProgramming LanguagesC Programming with Data StructuresC++ Programming CourseJava Programming CoursePython Full CourseClouds/DevopsDevOps EngineeringAWS Solutions Architect CertificationSalesforce Certified Administrator CourseGATE 2026GATE CS Rank BoosterGATE DA Rank BoosterGATE CS & IT Course - 2026GATE DA Course 2026GATE Rank Predictor \\n\\n\\n\\n\\n\\n\\n@GeeksforGeeks, Sanchhaya Education Private Limited, All rights reserved\\n\\n\\n\\n\\n\\n\\n\\n\\n\\n\\r\\n        We use cookies to ensure you have the best browsing experience on our website. By using our site, you\\r\\n        acknowledge that you have read and understood our\\r\\n        Cookie Policy &\\r\\n        Privacy Policy\\n\\n\\r\\n        Got It !\\r\\n    \\n\\n\\n\\n\\n\\n\\n\\n\\n\\n\\n\\n\\n\\n\\nImprovement\\n\\n\\n\\n\\n\\n\\n\\nSuggest changes\\n\\n\\n\\n\\n\\nSuggest Changes\\nHelp us improve. Share your suggestions to enhance the article. Contribute your expertise and make a difference in the GeeksforGeeks portal.\\n\\n\\n\\n\\n\\n\\n\\nCreate Improvement\\nEnhance the article with your expertise. Contribute to the GeeksforGeeks community and help create better learning resources for all.\\n\\n\\n\\n\\n\\n\\n\\n\\n\\n\\n\\n\\n\\n\\n\\nSuggest Changes\\n\\n\\n\\n\\n\\n\\nmin 4 words, max Words Limit:1000\\n\\n\\n\\n\\nThank You!\\nYour suggestions are valuable to us.\\n\\n\\n\\n\\n\\n\\n\\n\\n\\n\\n\\n\\n\\n\\n\\n\\n\\n\\n\\n\\n\\n\\n\\n\\n\\n\\n\\n\\n\\n\\nWhat kind of Experience do you want to share?\\n\\n\\n\\n\\n\\n\\n\\n\\n\\nInterview Experiences\\n\\n\\n\\n\\n\\n\\n\\nAdmission Experiences\\n\\n\\n\\n\\n\\n\\n\\nCareer Journeys\\n\\n\\n\\n\\n\\n\\n\\nWork Experiences\\n\\n\\n\\n\\n\\n\\n\\nCampus Experiences\\n\\n\\n\\n\\n\\n\\n\\nCompetitive Exam Experiences\\n</context>\\n\\nQuestion: Give me summary of about 50 words about this document\\n'}"
      ]
     },
     "execution_count": 55,
     "metadata": {},
     "output_type": "execute_result"
    }
   ],
   "source": [
    "response"
   ]
  },
  {
   "cell_type": "code",
   "execution_count": 56,
   "id": "985dd7aa",
   "metadata": {},
   "outputs": [
    {
     "data": {
      "text/plain": [
       "'Human: \" \\nAnswer the following question based on the given context only:\\n<context>\\nmatches the user\\'s query.3. Fetching Relevant InformationBased on the similarity search, LangChain retrieves the most relevant data or context from the database. This step ensures that the language model has access to accurate and contextually appropriate information to generate a meaningful response.4. Generating a ResponseThe retrieved information is passed to the\\xa0language model\\xa0(e.g., OpenAI\\'s GPT, Anthropic\\'s Claude, or others). The LLM processes the input and generates a response or takes an action based on the provided data. For example, if the query is about the weather, the LLM might generate a response like,\\xa0“Today’s weather is sunny with a high of 75°F.”The formatted response is returned to the user as the final output. The user receives a clear, accurate, and contextually relevant answer to their query.Getting Started with LangChainTo get started with LangChain, you\\'ll need to install the required libraries and set up a basic environment.Step 1: Install LangChainTo install LangChain, use the following command:!pip install langchainStep 2: Install OpenAILangChain works with various Large Language Models (LLMs), and for this example, we\\'ll be using OpenAI. To install OpenAI, run the following:!pip install openaiStep 3: Install Python-dotenvFor storing the OpenAI API key securely in an environment variable, we\\'ll use the python-dotenv library. Install it by running:!pip install python-dotenvStep 4: Generate and Store Your API KeyYou need to generate your API key from the OpenAI platform by signing up and creating an account. To learn, how can we access the API key from Open AI refer: What is ChatGPT API?Once you have the API key, create a .env file in your project directory and add your API key to it like this:\\n\\nOPENAI_KEY=\\'your_api_key\\'\\n\\nStep 5: Set Up Your Python ScriptNext, create a new Python file named lang.py. In this file, you\\'ll use LangChain to generate responses with OpenAI. Start by importing the necessary libraries:\\nPython\\n\\nimport os\\nimport openai\\nimport langchain\\nfrom dotenv import load_dotenv\\n\\n# Load the API key from .env file\\nload_dotenv()\\napi_key = os.getenv(\"OPENAI_KEY\", None)\\n\\nThis code loads the environment variables from the .env file, where your OpenAI API key is stored.Building an Application using LangChainNow that the initial setup is complete, let’s move on to building a simple application that generates responses. We’ll start by asking the model a basic question: \"Suggest me a skill that is in demand?\"Step 1: Initialize the OpenAI ModelImport LangChain and initialize the OpenAI LLM (Large Language Model) using the OpenAI class:\\nPython\\n\\nfrom langchain.llms import OpenAI\\n\\n# Initialize OpenAI LLM with a temperature of 0.9 for randomness\\nllm = OpenAI(temperature=0.9, openai_api_key=api_key)\\n\\nIn this case, the temperature=0.9 setting means the results will be more random and creative. If you want the responses to be more accurate and deterministic, you can lower the temperature to around 0.4.Step 2: Generate a ResponseNow that the model is initialized, you can generate a response by passing a simple prompt to it. In this case, we’ll ask, \"Suggest me a skill that is in demand?\"\\nPython\\n\\nresponse=llm.predict(\"Suggest me a skill that is in demand?\")\\nprint(response)\\n\\nOutput: One skill in demand right now is software/web development, which includes everything from coding to content management systems to web design. Other skills in demand include cloud computing, machine learning and artificial intelligence, digital marketing, cybersecurity, data analysis, and project management.This output is based on the language model\\'s prediction, and with the temperature setting of 0.9, it provides a more creative and diverse set of skills that are currently in demand.Applications of LangChainLangChain is a powerful tool that can be used to build a wide range of LLM-powered applications. It is simple to use and has a large user and contributor community.Conversational Agents: Build chatbots and virtual assistants that can engage in meaningful, context-aware conversations with users.Document Summarization: Automatically generate summaries of long documents, making it easier for users to digest large amounts of information.Question Answering: Create systems that can answer questions based on a given context or a set of documents.Workflow Automation: Design workflows that involve multiple steps, such as data extraction, processing, and reporting, all powered by language models.Content Generation: Generate creative content, such as articles, stories, or marketing copy, with the help of language models.The LangChain framework is a great interface to develop interesting AI-powered applications and from personal assistants to prompt management as well as automating tasks. So, keep learning and keep developing powerful applications.\\n\\n\\n\\n\\n\\n\\n\\n\\n\\n\\r\\n        Comment\\r\\n    More infoCampus Training Program \\n\\nNext Article\\n\\n\\n\\n\\nIntroduction to LangChain\\n\\n\\n\\n\\n\\n\\n\\n\\n\\nN\\n\\n\\n\\n\\n \\n\\nnamaldesign \\n\\n\\n\\n\\n\\n Follow \\n\\n\\n\\n\\n\\n\\n\\n\\n\\n\\n\\nImprove\\n\\n\\n\\n\\n\\n\\nArticle Tags : \\n\\n\\nData Science\\n\\n\\nMachine Learning\\n\\n\\nAI-ML-DS\\n\\n\\nPython-Library\\n\\n\\nPython-Miscellaneous\\n\\n\\npython\\n\\n\\nChatGPT Prompts\\n\\n\\nOpenAI API\\n \\n+4 More\\n\\n\\nPractice Tags : \\n\\nMachine Learningpython \\n\\n\\n\\n\\n\\n\\n\\n\\nLike\\n\\n\\n\\n\\n\\n\\n\\n\\n\\n\\n\\n\\n\\n\\n\\n\\n\\n\\n\\n\\n\\n \\n\\n\\n\\n\\n\\n\\n\\n\\n\\n\\n\\n\\n\\n\\n\\n\\n\\n\\n\\n\\n\\n\\n\\n\\n\\n\\n\\n\\n\\n\\n\\n\\n\\n\\n\\n\\n\\n\\n\\n\\n\\n\\n\\n\\n631k+ interested Geeks \\n\\n\\n\\nDSA to Development: A Complete Guide \\n\\n\\n\\n\\nExplore\\n\\n\\n\\n\\n\\n\\n\\n\\n\\n\\n\\n\\n\\n\\n\\n\\n470k+ interested Geeks \\n\\n\\n\\nComplete Machine Learning & Data Science Program \\n\\n\\n\\n\\nExplore\\n\\n\\n\\n\\n\\n\\n \\n\\n\\n\\n\\n\\n\\n\\n\\n\\n\\n\\n\\n\\n\\n\\n\\n\\n\\n\\n\\n\\n\\n\\n\\n\\n\\n\\n\\n\\n\\n\\n\\n\\n\\n\\n\\n\\n\\n\\n\\n\\n\\n\\n\\n\\n\\n\\n\\n\\n\\n\\n\\n\\n\\n\\n\\n\\n\\n\\n\\nCorporate & Communications Address:\\n\\r\\n                      A-143, 7th Floor, Sovereign Corporate Tower, Sector- 136, Noida, Uttar Pradesh (201305)\\n\\nIntroduction to LangChain - GeeksforGeeks\\n\\n\\n\\n\\n\\n\\n\\n\\n\\n\\n\\n\\n\\n\\n\\n\\n\\n\\n\\n\\n\\n\\n\\n\\n\\n\\n\\n\\n\\n\\n\\n\\n\\n\\n\\n\\n\\n\\nSkip to content\\n\\n\\n\\n\\n\\n\\n\\n\\n\\nCoursesDSA to DevelopmentGATE 2026 PrepGet 3 IBM CertificationsFor Working ProfessionalsInterview 101: DSA & System DesignData Science Training ProgramJAVA Backend Development (Live)Data Analytics TrainingDevOps Engineering (LIVE)Data Structures & Algorithms in PythonFor StudentsPlacement Preparation with DSAData Science (Live)Data Structure & Algorithm-Self Paced (C++/JAVA)Master Competitive ProgrammingFull Stack Development with React & Node JS (Live)Full Stack DevelopmentData Science & ML ProgramAll CoursesTutorialsPythonJavaData Structures & AlgorithmsML & Data ScienceInterview CornerProgramming LanguagesWeb DevelopmentGATECS SubjectsDevOps And LinuxSchool LearningPracticePractice Coding ProblemsGfG 160: Free DSA PracticeProblem of the DayETS TOEFL: Scholarship ContestAll Contests and EventsJobsBecome a MentorApply Now!Post JobsJob-A-Thon: Hiring Challenge\\n\\n\\n\\n\\n\\n \\n\\n\\n\\n\\n\\n\\n\\n\\n\\n\\n\\n\\n\\n\\n\\n\\n\\n\\n\\n\\n\\n\\n\\n\\n\\n\\n\\n\\nNotifications\\n\\nMark all as read\\n\\n\\n\\n\\n\\nAll\\n\\n\\n\\n\\n\\n \\n\\nView All\\n\\n\\n\\n\\n\\n\\n\\n\\n\\nNotifications\\n\\n\\n\\nMark all as read\\n\\n\\n\\n\\n\\n\\nAll\\n\\n\\nUnread\\n\\n\\nRead\\n\\n\\n\\n\\n\\r\\n                                        You\\'re all caught up!!\\r\\n                                    \\n\\n\\n\\n\\n\\n\\n\\n\\n\\n\\n\\n\\n\\n\\n\\n\\n\\n\\n\\n\\n\\n\\n\\n\\n\\n\\n\\n\\n\\n\\n\\n\\n\\n\\nData Science IBM CertificationData ScienceData Science ProjectsData AnalysisData VisualizationMachine LearningML ProjectsDeep LearningNLPComputer VisionArtificial Intelligence \\n\\n\\n\\n\\n\\n\\n\\n\\n\\n\\n\\n\\n\\n\\n\\n\\n\\n\\n\\nSign In\\n\\n\\n▲\\n\\n\\n\\n\\n\\n\\n\\n\\n\\n\\n\\n\\nOpen In App\\n\\n\\n\\n\\n\\n\\n\\n\\n\\n\\n\\n\\nExplore GfG CoursesShare Your ExperiencesIntroduction to LangsmithBuild  Chatbot Webapp with LangChainHow to use Hugging Face with LangChain ?What is Language Revitalization in Generative AI?Building Language Models in NLPMachine Learning & Data Science Course \\n\\n\\n\\n\\n\\n\\n\\n\\n\\n\\n\\n\\n\\n\\n\\n\\nIntroduction to LangChain\\n\\n\\n\\nLast Updated : \\n06 Feb, 2025\\n\\n\\n\\n\\n\\n\\n\\n\\n\\n\\n\\n\\n\\n\\n\\nComments\\n\\n\\n\\n\\n\\n\\n\\nImprove\\n\\n\\n\\n\\n\\n\\n\\n\\n\\n\\n\\n\\n\\n\\n\\n\\n\\n\\n\\n\\n\\n\\n\\n\\n\\n\\n\\nSuggest changes\\n\\n\\n\\n\\n\\n\\nLike Article\\n\\n\\n\\nLike\\n\\n\\n\\n\\n\\n\\n\\n\\n\\n\\nReport\\n\\nCorporate & Communications Address:\\n\\r\\n                      A-143, 7th Floor, Sovereign Corporate Tower, Sector- 136, Noida, Uttar Pradesh (201305)                    \\n\\n\\n\\n\\n\\nRegistered Address:\\r\\n                        K 061, Tower K, Gulshan Vivante Apartment, Sector 137, Noida, Gautam Buddh Nagar, Uttar Pradesh, 201305                      \\n\\n\\n\\n\\n\\n\\n\\n\\n\\n\\n\\n\\n\\n\\n\\n\\n\\n\\n\\n\\n\\n\\n\\n\\n\\nAdvertise with us\\n\\n\\n\\nCompanyAbout UsLegalPrivacy PolicyCareersIn MediaContact UsCorporate SolutionCampus Training ProgramExploreJob-A-ThonOffline Classroom ProgramDSA in JAVA/C++Master System DesignMaster CPVideosTutorialsPythonJavaC++PHPGoLangSQLR LanguageAndroidDSAData StructuresAlgorithmsDSA for BeginnersBasic DSA ProblemsDSA RoadmapDSA Interview QuestionsCompetitive ProgrammingData Science & MLData Science With PythonMachine LearningML MathsData VisualisationPandasNumPyNLPDeep LearningWeb TechnologiesHTMLCSSJavaScriptTypeScriptReactJSNextJSNodeJsBootstrapTailwind CSSPython TutorialPython ExamplesDjango TutorialPython ProjectsPython TkinterWeb ScrapingOpenCV TutorialPython Interview QuestionComputer ScienceGATE CS NotesOperating SystemsComputer NetworkDatabase Management SystemSoftware EngineeringDigital Logic DesignEngineering MathsDevOpsGitAWSDockerKubernetesAzureGCPDevOps RoadmapSystem DesignHigh Level DesignLow Level DesignUML DiagramsInterview GuideDesign PatternsOOADSystem Design BootcampInterview QuestionsSchool SubjectsMathematicsPhysicsChemistryBiologySocial ScienceEnglish GrammarDatabasesSQLMYSQLPostgreSQLPL/SQLMongoDBPreparation CornerCompany-Wise Recruitment ProcessAptitude PreparationPuzzlesCompany-Wise PreparationMore TutorialsSoftware DevelopmentSoftware TestingProduct ManagementProject ManagementLinuxExcelAll Cheat SheetsCoursesIBM Certification CoursesDSA and PlacementsWeb DevelopmentData ScienceProgramming LanguagesDevOps & CloudProgramming LanguagesC Programming with Data StructuresC++ Programming CourseJava Programming CoursePython Full CourseClouds/DevopsDevOps EngineeringAWS Solutions Architect CertificationSalesforce Certified Administrator CourseGATE 2026GATE CS Rank BoosterGATE DA Rank BoosterGATE CS & IT Course - 2026GATE DA Course 2026GATE Rank Predictor \\n\\n\\n\\n\\n\\n\\n@GeeksforGeeks, Sanchhaya Education Private Limited, All rights reserved\\n\\n\\n\\n\\n\\n\\n\\n\\n\\n\\r\\n        We use cookies to ensure you have the best browsing experience on our website. By using our site, you\\r\\n        acknowledge that you have read and understood our\\r\\n        Cookie Policy &\\r\\n        Privacy Policy\\n\\n\\r\\n        Got It !\\r\\n    \\n\\n\\n\\n\\n\\n\\n\\n\\n\\n\\n\\n\\n\\n\\nImprovement\\n\\n\\n\\n\\n\\n\\n\\nSuggest changes\\n\\n\\n\\n\\n\\nSuggest Changes\\nHelp us improve. Share your suggestions to enhance the article. Contribute your expertise and make a difference in the GeeksforGeeks portal.\\n\\n\\n\\n\\n\\n\\n\\nCreate Improvement\\nEnhance the article with your expertise. Contribute to the GeeksforGeeks community and help create better learning resources for all.\\n\\n\\n\\n\\n\\n\\n\\n\\n\\n\\n\\n\\n\\n\\n\\nSuggest Changes\\n\\n\\n\\n\\n\\n\\nmin 4 words, max Words Limit:1000\\n\\n\\n\\n\\nThank You!\\nYour suggestions are valuable to us.\\n\\n\\n\\n\\n\\n\\n\\n\\n\\n\\n\\n\\n\\n\\n\\n\\n\\n\\n\\n\\n\\n\\n\\n\\n\\n\\n\\n\\n\\n\\nWhat kind of Experience do you want to share?\\n\\n\\n\\n\\n\\n\\n\\n\\n\\nInterview Experiences\\n\\n\\n\\n\\n\\n\\n\\nAdmission Experiences\\n\\n\\n\\n\\n\\n\\n\\nCareer Journeys\\n\\n\\n\\n\\n\\n\\n\\nWork Experiences\\n\\n\\n\\n\\n\\n\\n\\nCampus Experiences\\n\\n\\n\\n\\n\\n\\n\\nCompetitive Exam Experiences\\n</context>\\n\\nQuestion: Give me summary of about 50 words about this document\\n'"
      ]
     },
     "execution_count": 56,
     "metadata": {},
     "output_type": "execute_result"
    }
   ],
   "source": [
    "response[\"answer\"]"
   ]
  },
  {
   "cell_type": "markdown",
   "id": "5ae74fc2",
   "metadata": {},
   "source": [
    "## Conversational Retrieval Chain"
   ]
  },
  {
   "cell_type": "code",
   "execution_count": 57,
   "id": "59c6771d",
   "metadata": {},
   "outputs": [],
   "source": [
    "from langchain.chains import create_history_aware_retriever\n",
    "from langchain_core.prompts import MessagesPlaceholder\n",
    "\n",
    "prompt = ChatPromptTemplate.from_messages([\n",
    "    MessagesPlaceholder(variable_name=\"chat_history\"),\n",
    "    (\"user\", \"{input}\"),\n",
    "    (\"user\", \"Gven the above conversation, generate a search query to look up inorder to get information relevant to the conversation\")\n",
    "])\n",
    "\n",
    "retriever_chain = create_history_aware_retriever(llm, retriver, prompt)"
   ]
  },
  {
   "cell_type": "code",
   "execution_count": 58,
   "id": "0fdbcd61",
   "metadata": {},
   "outputs": [
    {
     "data": {
      "text/plain": [
       "[Document(id='750696c7-c4c0-4ea1-ae73-d57a716d39a5', metadata={'source': 'https://www.geeksforgeeks.org/introduction-to-langchain/', 'title': 'Introduction to LangChain - GeeksforGeeks', 'description': 'Your All-in-One Learning Portal: GeeksforGeeks is a comprehensive educational platform that empowers learners across domains-spanning computer science and programming, school education, upskilling, commerce, software tools, competitive exams, and more.', 'language': 'en-US'}, page_content=\"matches the user's query.3. Fetching Relevant InformationBased on the similarity search, LangChain retrieves the most relevant data or context from the database. This step ensures that the language model has access to accurate and contextually appropriate information to generate a meaningful response.4. Generating a ResponseThe retrieved information is passed to the\\xa0language model\\xa0(e.g., OpenAI's GPT, Anthropic's Claude, or others). The LLM processes the input and generates a response or takes an action based on the provided data. For example, if the query is about the weather, the LLM might generate a response like,\\xa0“Today’s weather is sunny with a high of 75°F.”The formatted response is returned to the user as the final output. The user receives a clear, accurate, and contextually relevant answer to their query.Getting Started with LangChainTo get started with LangChain, you'll need to install the required libraries and set up a basic environment.Step 1: Install LangChainTo install LangChain, use the following command:!pip install langchainStep 2: Install OpenAILangChain works with various Large Language Models (LLMs), and for this example, we'll be using OpenAI. To install OpenAI, run the following:!pip install openaiStep 3: Install Python-dotenvFor storing the OpenAI API key securely in an environment variable, we'll use the python-dotenv library. Install it by running:!pip install python-dotenvStep 4: Generate and Store Your API KeyYou need to generate your API key from the OpenAI platform by signing up and creating an account. To learn, how can we access the API key from Open AI refer: What is ChatGPT API?Once you have the API key, create a .env file in your project directory and add your API key to it like this:\"),\n",
       " Document(id='1f8cf807-b1b7-457e-8106-5b96c9ee3636', metadata={'source': 'https://www.geeksforgeeks.org/introduction-to-langchain/', 'title': 'Introduction to LangChain - GeeksforGeeks', 'description': 'Your All-in-One Learning Portal: GeeksforGeeks is a comprehensive educational platform that empowers learners across domains-spanning computer science and programming, school education, upskilling, commerce, software tools, competitive exams, and more.', 'language': 'en-US'}, page_content=\"Introduction to LangChain - GeeksforGeeks\\n\\n\\n\\n\\n\\n\\n\\n\\n\\n\\n\\n\\n\\n\\n\\n\\n\\n\\n\\n\\n\\n\\n\\n\\n\\n\\n\\n\\n\\n\\n\\n\\n\\n\\n\\n\\n\\n\\nSkip to content\\n\\n\\n\\n\\n\\n\\n\\n\\n\\nCoursesDSA to DevelopmentGATE 2026 PrepGet 3 IBM CertificationsFor Working ProfessionalsInterview 101: DSA & System DesignData Science Training ProgramJAVA Backend Development (Live)Data Analytics TrainingDevOps Engineering (LIVE)Data Structures & Algorithms in PythonFor StudentsPlacement Preparation with DSAData Science (Live)Data Structure & Algorithm-Self Paced (C++/JAVA)Master Competitive ProgrammingFull Stack Development with React & Node JS (Live)Full Stack DevelopmentData Science & ML ProgramAll CoursesTutorialsPythonJavaData Structures & AlgorithmsML & Data ScienceInterview CornerProgramming LanguagesWeb DevelopmentGATECS SubjectsDevOps And LinuxSchool LearningPracticePractice Coding ProblemsGfG 160: Free DSA PracticeProblem of the DayETS TOEFL: Scholarship ContestAll Contests and EventsJobsBecome a MentorApply Now!Post JobsJob-A-Thon: Hiring Challenge\\n\\n\\n\\n\\n\\n \\n\\n\\n\\n\\n\\n\\n\\n\\n\\n\\n\\n\\n\\n\\n\\n\\n\\n\\n\\n\\n\\n\\n\\n\\n\\n\\n\\n\\nNotifications\\n\\nMark all as read\\n\\n\\n\\n\\n\\nAll\\n\\n\\n\\n\\n\\n \\n\\nView All\\n\\n\\n\\n\\n\\n\\n\\n\\n\\nNotifications\\n\\n\\n\\nMark all as read\\n\\n\\n\\n\\n\\n\\nAll\\n\\n\\nUnread\\n\\n\\nRead\\n\\n\\n\\n\\n\\r\\n                                        You're all caught up!!\\r\\n                                    \\n\\n\\n\\n\\n\\n\\n\\n\\n\\n\\n\\n\\n\\n\\n\\n\\n\\n\\n\\n\\n\\n\\n\\n\\n\\n\\n\\n\\n\\n\\n\\n\\n\\n\\nData Science IBM CertificationData ScienceData Science ProjectsData AnalysisData VisualizationMachine LearningML ProjectsDeep LearningNLPComputer VisionArtificial Intelligence \\n\\n\\n\\n\\n\\n\\n\\n\\n\\n\\n\\n\\n\\n\\n\\n\\n\\n\\n\\nSign In\\n\\n\\n▲\\n\\n\\n\\n\\n\\n\\n\\n\\n\\n\\n\\n\\nOpen In App\\n\\n\\n\\n\\n\\n\\n\\n\\n\\n\\n\\n\\nExplore GfG CoursesShare Your ExperiencesIntroduction to LangsmithBuild  Chatbot Webapp with LangChainHow to use Hugging Face with LangChain ?What is Language Revitalization in Generative AI?Building Language Models in NLPMachine Learning & Data Science Course \\n\\n\\n\\n\\n\\n\\n\\n\\n\\n\\n\\n\\n\\n\\n\\n\\nIntroduction to LangChain\\n\\n\\n\\nLast Updated : \\n06 Feb, 2025\\n\\n\\n\\n\\n\\n\\n\\n\\n\\n\\n\\n\\n\\n\\n\\nComments\\n\\n\\n\\n\\n\\n\\n\\nImprove\\n\\n\\n\\n\\n\\n\\n\\n\\n\\n\\n\\n\\n\\n\\n\\n\\n\\n\\n\\n\\n\\n\\n\\n\\n\\n\\n\\nSuggest changes\\n\\n\\n\\n\\n\\n\\nLike Article\\n\\n\\n\\nLike\\n\\n\\n\\n\\n\\n\\n\\n\\n\\n\\nReport\"),\n",
       " Document(id='5e9f3f79-57b2-4219-a5f7-380b8728bd48', metadata={'source': 'https://www.geeksforgeeks.org/introduction-to-langchain/', 'title': 'Introduction to LangChain - GeeksforGeeks', 'description': 'Your All-in-One Learning Portal: GeeksforGeeks is a comprehensive educational platform that empowers learners across domains-spanning computer science and programming, school education, upskilling, commerce, software tools, competitive exams, and more.', 'language': 'en-US'}, page_content='LangChain is an open-source framework designed to simplify the creation of applications using large language models (LLMs). It provides a standard interface for chains, many integrations with other tools, and end-to-end chains for common applications. LangChain allows AI developers to develop applications based on the combined Large Language Models (such as GPT-4) with external sources of computation and data. This framework comes with a package for both Python and JavaScript.Why is LangChain Important?LangChain helps manage complex workflows, making it easier to integrate LLMs into various applications like chatbots and document analysis. Key benefits include:Modular Workflow: Simplifies chaining LLMs together for reusable and efficient workflows.Prompt Management: Offers tools for effective prompt engineering and memory handling.Ease of Integration: Streamlines the process of building LLM-powered applications.Key Components of LangChain1. ChainsChains define sequences of actions, where each step can involve querying an LLM, manipulating data, or interacting with external tools. There are two types:Simple Chains: A single LLM invocation.Multi-step Chains: Multiple LLMs or actions combined, where each step can take the output from the previous step.2. Prompt ManagementLangChain facilitates managing and customizing prompts passed to the LLM. Developers can use PromptTemplates to define how inputs and outputs are formatted before being passed to the model. It also simplifies tasks like handling dynamic variables and prompt engineering, making it easier to control the LLM\\'s behavior.3. AgentsAgents are autonomous systems within LangChain that take actions based on input data. They can call external APIs or query databases dynamically, making decisions based on the situation. These agents leverage LLMs for decision-making, allowing them to respond intelligently to changing input.4. Vector DatabaseLangChain integrates with a vector database, which is used to store and search high-dimensional vector representations of data. This is important for performing similarity searches, where the LLM converts a query into a vector and compares it against the vectors in the database to retrieve relevant information.Vector database plays a key role in tasks like document retrieval, knowledge base integration, or context-based search, providing the model with dynamic, real-time data to enhance responses.5. ModelsLangChain is model-agnostic, meaning it can integrate with different LLMs, such as OpenAI\\'s GPT, Hugging Face models, DeepSeek R1, and more. This flexibility allows developers to choose the best model for their use case while benefiting from LangChain’s architecture.6. Memory ManagementLangChain supports memory management, allowing the LLM to \"remember\" context from previous interactions. This is especially useful for creating conversational agents that need context across multiple inputs. The memory allows the model to handle sequential conversations, keeping track of prior exchanges to ensure the system responds appropriately.How LangChain Works?LangChain follows a structured pipeline that integrates user queries, data retrieval and response generation into seamless workflow. LangChain Pipeline1. User QueryThe process begins when a user submits a query or request. For example, a user might ask, “What’s the weather like today?” This query serves as the input to the LangChain pipeline.2. Vector Representation & Similarity SearchOnce the query is received, LangChain converts it into a\\xa0vector representation\\xa0using embeddings. This vector captures the semantic meaning of the query. The vector is then used to perform a\\xa0similarity search\\xa0in a\\xa0vector database. The goal is to find the most relevant information or context stored in the database that matches the user\\'s query.3. Fetching Relevant InformationBased on the similarity search, LangChain retrieves the most relevant data or context from the database. This step ensures that the language'),\n",
       " Document(id='0b8c9f3e-48f6-4806-b4fc-60abcaa214c7', metadata={'source': 'https://www.geeksforgeeks.org/introduction-to-langchain/', 'title': 'Introduction to LangChain - GeeksforGeeks', 'description': 'Your All-in-One Learning Portal: GeeksforGeeks is a comprehensive educational platform that empowers learners across domains-spanning computer science and programming, school education, upskilling, commerce, software tools, competitive exams, and more.', 'language': 'en-US'}, page_content='OPENAI_KEY=\\'your_api_key\\'\\n\\nStep 5: Set Up Your Python ScriptNext, create a new Python file named lang.py. In this file, you\\'ll use LangChain to generate responses with OpenAI. Start by importing the necessary libraries:\\nPython\\n\\nimport os\\nimport openai\\nimport langchain\\nfrom dotenv import load_dotenv\\n\\n# Load the API key from .env file\\nload_dotenv()\\napi_key = os.getenv(\"OPENAI_KEY\", None)\\n\\nThis code loads the environment variables from the .env file, where your OpenAI API key is stored.Building an Application using LangChainNow that the initial setup is complete, let’s move on to building a simple application that generates responses. We’ll start by asking the model a basic question: \"Suggest me a skill that is in demand?\"Step 1: Initialize the OpenAI ModelImport LangChain and initialize the OpenAI LLM (Large Language Model) using the OpenAI class:\\nPython\\n\\nfrom langchain.llms import OpenAI\\n\\n# Initialize OpenAI LLM with a temperature of 0.9 for randomness\\nllm = OpenAI(temperature=0.9, openai_api_key=api_key)\\n\\nIn this case, the temperature=0.9 setting means the results will be more random and creative. If you want the responses to be more accurate and deterministic, you can lower the temperature to around 0.4.Step 2: Generate a ResponseNow that the model is initialized, you can generate a response by passing a simple prompt to it. In this case, we’ll ask, \"Suggest me a skill that is in demand?\"\\nPython\\n\\nresponse=llm.predict(\"Suggest me a skill that is in demand?\")\\nprint(response)\\n\\nOutput: One skill in demand right now is software/web development, which includes everything from coding to content management systems to web design. Other skills in demand include cloud computing, machine learning and artificial intelligence, digital marketing, cybersecurity, data analysis, and project management.This output is based on the language model\\'s prediction, and with the temperature setting of 0.9, it provides a more creative and diverse set of skills that are currently in demand.Applications of LangChainLangChain is a powerful tool that can be used to build a wide range of LLM-powered applications. It is simple to use and has a large user and contributor community.Conversational Agents: Build chatbots and virtual assistants that can engage in meaningful, context-aware conversations with users.Document Summarization: Automatically generate summaries of long documents, making it easier for users to digest large amounts of information.Question Answering: Create systems that can answer questions based on a given context or a set of documents.Workflow Automation: Design workflows that involve multiple steps, such as data extraction, processing, and reporting, all powered by language models.Content Generation: Generate creative content, such as articles, stories, or marketing copy, with the help of language models.The LangChain framework is a great interface to develop interesting AI-powered applications and from personal assistants to prompt management as well as automating tasks. So, keep learning and keep developing powerful applications.\\n\\n\\n\\n\\n\\n\\n\\n\\n\\n\\r\\n        Comment\\r\\n    More infoCampus Training Program \\n\\nNext Article\\n\\n\\n\\n\\nIntroduction to LangChain\\n\\n\\n\\n\\n\\n\\n\\n\\n\\nN\\n\\n\\n\\n\\n \\n\\nnamaldesign \\n\\n\\n\\n\\n\\n Follow \\n\\n\\n\\n\\n\\n\\n\\n\\n\\n\\n\\nImprove\\n\\n\\n\\n\\n\\n\\nArticle Tags : \\n\\n\\nData Science\\n\\n\\nMachine Learning\\n\\n\\nAI-ML-DS\\n\\n\\nPython-Library\\n\\n\\nPython-Miscellaneous\\n\\n\\npython\\n\\n\\nChatGPT Prompts\\n\\n\\nOpenAI API\\n \\n+4 More\\n\\n\\nPractice Tags : \\n\\nMachine Learningpython \\n\\n\\n\\n\\n\\n\\n\\n\\nLike\\n\\n\\n\\n\\n\\n\\n\\n\\n\\n\\n\\n\\n\\n\\n\\n\\n\\n\\n\\n\\n\\n \\n\\n\\n\\n\\n\\n\\n\\n\\n\\n\\n\\n\\n\\n\\n\\n\\n\\n\\n\\n\\n\\n\\n\\n\\n\\n\\n\\n\\n\\n\\n\\n\\n\\n\\n\\n\\n\\n\\n\\n\\n\\n\\n\\n\\n631k+ interested Geeks \\n\\n\\n\\nDSA to Development: A Complete Guide \\n\\n\\n\\n\\nExplore\\n\\n\\n\\n\\n\\n\\n\\n\\n\\n\\n\\n\\n\\n\\n\\n\\n470k+ interested Geeks \\n\\n\\n\\nComplete Machine Learning & Data Science Program \\n\\n\\n\\n\\nExplore\\n\\n\\n\\n\\n\\n\\n \\n\\n\\n\\n\\n\\n\\n\\n\\n\\n\\n\\n\\n\\n\\n\\n\\n\\n\\n\\n\\n\\n\\n\\n\\n\\n\\n\\n\\n\\n\\n\\n\\n\\n\\n\\n\\n\\n\\n\\n\\n\\n\\n\\n\\n\\n\\n\\n\\n\\n\\n\\n\\n\\n\\n\\n\\n\\n\\n\\n\\nCorporate & Communications Address:\\n\\r\\n                      A-143, 7th Floor, Sovereign Corporate Tower, Sector- 136, Noida, Uttar Pradesh (201305)')]"
      ]
     },
     "execution_count": 58,
     "metadata": {},
     "output_type": "execute_result"
    }
   ],
   "source": [
    "from langchain_core.messages import HumanMessage, AIMessage\n",
    "\n",
    "chat_history = [\n",
    "    HumanMessage(content=\"What is the latest version og langchain?\"),\n",
    "    AIMessage(content=\"Langchain 0.1.0\")\n",
    "]\n",
    "\n",
    "retriever_chain.invoke({\n",
    "    \"chat_history\": chat_history,\n",
    "    \"input\": \"Tell me more about it.\"\n",
    "})"
   ]
  },
  {
   "cell_type": "code",
   "execution_count": null,
   "id": "49abc97c",
   "metadata": {},
   "outputs": [],
   "source": []
  }
 ],
 "metadata": {
  "kernelspec": {
   "display_name": "llm-venv",
   "language": "python",
   "name": "python3"
  },
  "language_info": {
   "codemirror_mode": {
    "name": "ipython",
    "version": 3
   },
   "file_extension": ".py",
   "mimetype": "text/x-python",
   "name": "python",
   "nbconvert_exporter": "python",
   "pygments_lexer": "ipython3",
   "version": "3.12.3"
  }
 },
 "nbformat": 4,
 "nbformat_minor": 5
}
